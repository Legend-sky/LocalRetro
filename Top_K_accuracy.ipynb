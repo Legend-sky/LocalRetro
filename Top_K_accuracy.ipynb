{
 "cells": [
  {
   "cell_type": "code",
   "execution_count": 1,
   "metadata": {},
   "outputs": [],
   "source": [
    "import pandas as pd\n",
    "from LocalTemplate.template_decoder import *\n",
    "\n",
    "dataset = 'USPTO_50K'\n",
    "test_file = pd.read_csv('data/%s/raw_test.csv' % dataset)"
   ]
  },
  {
   "cell_type": "code",
   "execution_count": 2,
   "metadata": {},
   "outputs": [],
   "source": [
    "rxn_ps = [rxn.split('>>')[1] for rxn in test_file['reactants>reagents>production']]"
   ]
  },
  {
   "cell_type": "code",
   "execution_count": 3,
   "metadata": {},
   "outputs": [],
   "source": [
    "ground_truth = [demap(Chem.MolFromSmiles(rxn.split('>>')[0])) for rxn in test_file['reactants>reagents>production']]\n",
    "ground_truth_MaxFrag = [get_MaxFrag(g) for g in ground_truth]"
   ]
  },
  {
   "cell_type": "code",
   "execution_count": 4,
   "metadata": {},
   "outputs": [],
   "source": [
    "class_given = False\n",
    "\n",
    "result_dir = 'outputs/decoded_prediction' \n",
    "if class_given:\n",
    "    result_dir += '_class'\n",
    "\n",
    "result_file = '%s/LocalRetro_%s.txt' % (result_dir, dataset)\n",
    "\n",
    "results = {}       \n",
    "results_MaxFrag = {}\n",
    "with open(result_file, 'r') as f:\n",
    "    for i, line in enumerate(f.readlines()):\n",
    "        line = line.split('\\n')[0]\n",
    "        i = int(line.split('\\t')[0])\n",
    "        predictions = line.split('\\t')[1:]\n",
    "        MaxFrags = []\n",
    "        results[i] = [eval(p)[0] for p in predictions]\n",
    "        for p in results[i]:\n",
    "            if p not in MaxFrags:\n",
    "                MaxFrags.append(get_MaxFrag(p))\n",
    "        results_MaxFrag[i] = MaxFrags"
   ]
  },
  {
   "cell_type": "code",
   "execution_count": null,
   "metadata": {},
   "outputs": [
    {
     "name": "stdout",
     "output_type": "stream",
     "text": [
      "Calculating accuracy... 5000/5007"
     ]
    }
   ],
   "source": [
    "stereo_aware = False\n",
    "\n",
    "Exact_matches = []\n",
    "MaxFrag_matches = [] # Only compares the largest reactant fragment\n",
    "\n",
    "Exact_matches_multi = []\n",
    "MaxFrag_matches_multi = [] \n",
    "for i in range(len(results)):\n",
    "    if stereo_aware:\n",
    "        metric = isomer_match   #异构体匹配，只要预测的反应物和真实的反应物有一个异构体匹配就算匹配\n",
    "    else:\n",
    "        metric = exact_match    #精确匹配，预测的反应物和真实的反应物完全一致才算匹配\n",
    "    match_exact = metric(results[i], ground_truth[i])\n",
    "    match_maxfrag = metric(results_MaxFrag[i], ground_truth_MaxFrag[i])\n",
    "    if len(rxn_ps[i].split('.')) > 1:\n",
    "        Exact_matches_multi.append(match_exact)\n",
    "        MaxFrag_matches_multi.append(match_maxfrag)\n",
    "    Exact_matches.append(match_exact)\n",
    "    MaxFrag_matches.append(match_maxfrag)\n",
    "    if i % 100 == 0:\n",
    "        print ('\\rCalculating accuracy... %s/%s' % (i, len(results)), end='', flush=True)"
   ]
  },
  {
   "cell_type": "code",
   "execution_count": 8,
   "metadata": {},
   "outputs": [
    {
     "name": "stdout",
     "output_type": "stream",
     "text": [
      "5007\n",
      "Top-1 Exact accuracy: 0.542, MaxFrag accuracy: 0.586\n",
      "Top-3 Exact accuracy: 0.772, MaxFrag accuracy: 0.807\n",
      "Top-5 Exact accuracy: 0.846, MaxFrag accuracy: 0.875\n",
      "Top-10 Exact accuracy: 0.910, MaxFrag accuracy: 0.929\n",
      "Top-50 Exact accuracy: 0.961, MaxFrag accuracy: 0.970\n"
     ]
    }
   ],
   "source": [
    "# Stereo-unaware\n",
    "ks = [1, 3, 5, 10, 50]\n",
    "exact_k = {k:0 for k in ks}\n",
    "MaxFrag_k = {k:0 for k in ks}\n",
    "\n",
    "print(len(Exact_matches))\n",
    "for i in range(len(Exact_matches)):\n",
    "    for k in ks:\n",
    "        if Exact_matches[i] <= k and Exact_matches[i] != -1:\n",
    "            exact_k[k] += 1\n",
    "        if MaxFrag_matches[i] <= k and MaxFrag_matches[i] != -1:\n",
    "            MaxFrag_k[k] += 1\n",
    "\n",
    "for k in ks:\n",
    "    print ('Top-%d Exact accuracy: %.3f, MaxFrag accuracy: %.3f' % (k, exact_k[k]/len(Exact_matches), MaxFrag_k[k]/len(MaxFrag_matches)))"
   ]
  },
  {
   "cell_type": "code",
   "execution_count": 9,
   "metadata": {},
   "outputs": [
    {
     "name": "stdout",
     "output_type": "stream",
     "text": [
      "Calculating accuracy... 5000/5007"
     ]
    }
   ],
   "source": [
    "stereo_aware = True\n",
    "\n",
    "Exact_matches = []\n",
    "MaxFrag_matches = [] # Only compares the largest reactant fragment\n",
    "\n",
    "Exact_matches_multi = []\n",
    "MaxFrag_matches_multi = [] \n",
    "for i in range(len(results)):\n",
    "    if stereo_aware:\n",
    "        metric = isomer_match\n",
    "    else:\n",
    "        metric = exact_match\n",
    "    match_exact = metric(results[i], ground_truth[i])\n",
    "    match_maxfrag = metric(results_MaxFrag[i], ground_truth_MaxFrag[i])\n",
    "    if len(rxn_ps[i].split('.')) > 1:\n",
    "        Exact_matches_multi.append(match_exact)\n",
    "        MaxFrag_matches_multi.append(match_maxfrag)\n",
    "    Exact_matches.append(match_exact)\n",
    "    MaxFrag_matches.append(match_maxfrag)\n",
    "    if i % 100 == 0:\n",
    "        print ('\\rCalculating accuracy... %s/%s' % (i, len(results)), end='', flush=True)"
   ]
  },
  {
   "cell_type": "code",
   "execution_count": 10,
   "metadata": {},
   "outputs": [
    {
     "name": "stdout",
     "output_type": "stream",
     "text": [
      "5007\n",
      "Top-1 Exact accuracy: 0.551, MaxFrag accuracy: 0.595\n",
      "Top-3 Exact accuracy: 0.787, MaxFrag accuracy: 0.818\n",
      "Top-5 Exact accuracy: 0.861, MaxFrag accuracy: 0.888\n",
      "Top-10 Exact accuracy: 0.927, MaxFrag accuracy: 0.943\n",
      "Top-50 Exact accuracy: 0.980, MaxFrag accuracy: 0.985\n"
     ]
    }
   ],
   "source": [
    "# Stereo-aware\n",
    "ks = [1, 3, 5, 10, 50]\n",
    "exact_k = {k:0 for k in ks}\n",
    "MaxFrag_k = {k:0 for k in ks}\n",
    "\n",
    "print(len(Exact_matches))\n",
    "for i in range(len(Exact_matches)):\n",
    "    for k in ks:\n",
    "        if Exact_matches[i] <= k and Exact_matches[i] != -1:\n",
    "            exact_k[k] += 1\n",
    "        if MaxFrag_matches[i] <= k and MaxFrag_matches[i] != -1:\n",
    "            MaxFrag_k[k] += 1\n",
    "\n",
    "for k in ks:\n",
    "    print ('Top-%d Exact accuracy: %.3f, MaxFrag accuracy: %.3f' % (k, exact_k[k]/len(Exact_matches), MaxFrag_k[k]/len(MaxFrag_matches)))"
   ]
  }
 ],
 "metadata": {
  "kernelspec": {
   "display_name": "localretro",
   "language": "python",
   "name": "python3"
  },
  "language_info": {
   "codemirror_mode": {
    "name": "ipython",
    "version": 3
   },
   "file_extension": ".py",
   "mimetype": "text/x-python",
   "name": "python",
   "nbconvert_exporter": "python",
   "pygments_lexer": "ipython3",
   "version": "3.9.21"
  }
 },
 "nbformat": 4,
 "nbformat_minor": 4
}
